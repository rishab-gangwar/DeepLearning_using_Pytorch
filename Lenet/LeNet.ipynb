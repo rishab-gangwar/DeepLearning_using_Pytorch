{
  "nbformat": 4,
  "nbformat_minor": 0,
  "metadata": {
    "colab": {
      "name": "LeNet.ipynb",
      "provenance": []
    },
    "kernelspec": {
      "name": "python3",
      "display_name": "Python 3"
    },
    "accelerator": "GPU",
    "widgets": {
      "application/vnd.jupyter.widget-state+json": {
        "3a56b8b718ab410ebd960e54d50d0e8a": {
          "model_module": "@jupyter-widgets/controls",
          "model_name": "HBoxModel",
          "state": {
            "_view_name": "HBoxView",
            "_dom_classes": [],
            "_model_name": "HBoxModel",
            "_view_module": "@jupyter-widgets/controls",
            "_model_module_version": "1.5.0",
            "_view_count": null,
            "_view_module_version": "1.5.0",
            "box_style": "",
            "layout": "IPY_MODEL_6dbc81f0edfb4d8ba6e63c4662ae64c6",
            "_model_module": "@jupyter-widgets/controls",
            "children": [
              "IPY_MODEL_c4865e490de54d238bc1c0180092a7ac",
              "IPY_MODEL_9557c34c3cb44b2b92aecdc31dc13700"
            ]
          }
        },
        "6dbc81f0edfb4d8ba6e63c4662ae64c6": {
          "model_module": "@jupyter-widgets/base",
          "model_name": "LayoutModel",
          "state": {
            "_view_name": "LayoutView",
            "grid_template_rows": null,
            "right": null,
            "justify_content": null,
            "_view_module": "@jupyter-widgets/base",
            "overflow": null,
            "_model_module_version": "1.2.0",
            "_view_count": null,
            "flex_flow": null,
            "width": null,
            "min_width": null,
            "border": null,
            "align_items": null,
            "bottom": null,
            "_model_module": "@jupyter-widgets/base",
            "top": null,
            "grid_column": null,
            "overflow_y": null,
            "overflow_x": null,
            "grid_auto_flow": null,
            "grid_area": null,
            "grid_template_columns": null,
            "flex": null,
            "_model_name": "LayoutModel",
            "justify_items": null,
            "grid_row": null,
            "max_height": null,
            "align_content": null,
            "visibility": null,
            "align_self": null,
            "height": null,
            "min_height": null,
            "padding": null,
            "grid_auto_rows": null,
            "grid_gap": null,
            "max_width": null,
            "order": null,
            "_view_module_version": "1.2.0",
            "grid_template_areas": null,
            "object_position": null,
            "object_fit": null,
            "grid_auto_columns": null,
            "margin": null,
            "display": null,
            "left": null
          }
        },
        "c4865e490de54d238bc1c0180092a7ac": {
          "model_module": "@jupyter-widgets/controls",
          "model_name": "FloatProgressModel",
          "state": {
            "_view_name": "ProgressView",
            "style": "IPY_MODEL_1e86115851c24366ae3188b2223866ac",
            "_dom_classes": [],
            "description": "",
            "_model_name": "FloatProgressModel",
            "bar_style": "info",
            "max": 1,
            "_view_module": "@jupyter-widgets/controls",
            "_model_module_version": "1.5.0",
            "value": 1,
            "_view_count": null,
            "_view_module_version": "1.5.0",
            "orientation": "horizontal",
            "min": 0,
            "description_tooltip": null,
            "_model_module": "@jupyter-widgets/controls",
            "layout": "IPY_MODEL_64692dfb17694529a0d949dc41fb0167"
          }
        },
        "9557c34c3cb44b2b92aecdc31dc13700": {
          "model_module": "@jupyter-widgets/controls",
          "model_name": "HTMLModel",
          "state": {
            "_view_name": "HTMLView",
            "style": "IPY_MODEL_962a51b1acbc451b9ce0007bdc80298b",
            "_dom_classes": [],
            "description": "",
            "_model_name": "HTMLModel",
            "placeholder": "​",
            "_view_module": "@jupyter-widgets/controls",
            "_model_module_version": "1.5.0",
            "value": " 170500096/? [00:19&lt;00:00, 54977992.49it/s]",
            "_view_count": null,
            "_view_module_version": "1.5.0",
            "description_tooltip": null,
            "_model_module": "@jupyter-widgets/controls",
            "layout": "IPY_MODEL_1feee994df8d4476a79bfd86e00a8ef6"
          }
        },
        "1e86115851c24366ae3188b2223866ac": {
          "model_module": "@jupyter-widgets/controls",
          "model_name": "ProgressStyleModel",
          "state": {
            "_view_name": "StyleView",
            "_model_name": "ProgressStyleModel",
            "description_width": "initial",
            "_view_module": "@jupyter-widgets/base",
            "_model_module_version": "1.5.0",
            "_view_count": null,
            "_view_module_version": "1.2.0",
            "bar_color": null,
            "_model_module": "@jupyter-widgets/controls"
          }
        },
        "64692dfb17694529a0d949dc41fb0167": {
          "model_module": "@jupyter-widgets/base",
          "model_name": "LayoutModel",
          "state": {
            "_view_name": "LayoutView",
            "grid_template_rows": null,
            "right": null,
            "justify_content": null,
            "_view_module": "@jupyter-widgets/base",
            "overflow": null,
            "_model_module_version": "1.2.0",
            "_view_count": null,
            "flex_flow": null,
            "width": null,
            "min_width": null,
            "border": null,
            "align_items": null,
            "bottom": null,
            "_model_module": "@jupyter-widgets/base",
            "top": null,
            "grid_column": null,
            "overflow_y": null,
            "overflow_x": null,
            "grid_auto_flow": null,
            "grid_area": null,
            "grid_template_columns": null,
            "flex": null,
            "_model_name": "LayoutModel",
            "justify_items": null,
            "grid_row": null,
            "max_height": null,
            "align_content": null,
            "visibility": null,
            "align_self": null,
            "height": null,
            "min_height": null,
            "padding": null,
            "grid_auto_rows": null,
            "grid_gap": null,
            "max_width": null,
            "order": null,
            "_view_module_version": "1.2.0",
            "grid_template_areas": null,
            "object_position": null,
            "object_fit": null,
            "grid_auto_columns": null,
            "margin": null,
            "display": null,
            "left": null
          }
        },
        "962a51b1acbc451b9ce0007bdc80298b": {
          "model_module": "@jupyter-widgets/controls",
          "model_name": "DescriptionStyleModel",
          "state": {
            "_view_name": "StyleView",
            "_model_name": "DescriptionStyleModel",
            "description_width": "",
            "_view_module": "@jupyter-widgets/base",
            "_model_module_version": "1.5.0",
            "_view_count": null,
            "_view_module_version": "1.2.0",
            "_model_module": "@jupyter-widgets/controls"
          }
        },
        "1feee994df8d4476a79bfd86e00a8ef6": {
          "model_module": "@jupyter-widgets/base",
          "model_name": "LayoutModel",
          "state": {
            "_view_name": "LayoutView",
            "grid_template_rows": null,
            "right": null,
            "justify_content": null,
            "_view_module": "@jupyter-widgets/base",
            "overflow": null,
            "_model_module_version": "1.2.0",
            "_view_count": null,
            "flex_flow": null,
            "width": null,
            "min_width": null,
            "border": null,
            "align_items": null,
            "bottom": null,
            "_model_module": "@jupyter-widgets/base",
            "top": null,
            "grid_column": null,
            "overflow_y": null,
            "overflow_x": null,
            "grid_auto_flow": null,
            "grid_area": null,
            "grid_template_columns": null,
            "flex": null,
            "_model_name": "LayoutModel",
            "justify_items": null,
            "grid_row": null,
            "max_height": null,
            "align_content": null,
            "visibility": null,
            "align_self": null,
            "height": null,
            "min_height": null,
            "padding": null,
            "grid_auto_rows": null,
            "grid_gap": null,
            "max_width": null,
            "order": null,
            "_view_module_version": "1.2.0",
            "grid_template_areas": null,
            "object_position": null,
            "object_fit": null,
            "grid_auto_columns": null,
            "margin": null,
            "display": null,
            "left": null
          }
        }
      }
    }
  },
  "cells": [
    {
      "cell_type": "markdown",
      "metadata": {
        "id": "EYcoUN88bNVE"
      },
      "source": [
        "#**`Training Lenet`**"
      ]
    },
    {
      "cell_type": "code",
      "metadata": {
        "id": "QJr8BJCayM0I"
      },
      "source": [
        "import torch\r\n",
        "import torchvision\r\n",
        "import torchvision.datasets\r\n",
        "import torch.nn as nn\r\n",
        "import numpy as np\r\n",
        "import torchvision.transforms as transforms"
      ],
      "execution_count": 4,
      "outputs": []
    },
    {
      "cell_type": "code",
      "metadata": {
        "id": "PcN789w6bCr7"
      },
      "source": [
        "class LeNet(nn.Module):\r\n",
        "  def __init__(self):\r\n",
        "    super(LeNet,self).__init__()\r\n",
        "    self.features=nn.Sequential(\r\n",
        "        nn.Conv2d(3,6,5),\r\n",
        "        nn.Tanh(),\r\n",
        "        nn.AvgPool2d(2,stride=2),\r\n",
        "        nn.Conv2d(6,16,5),\r\n",
        "        nn.Tanh(),\r\n",
        "        nn.AvgPool2d(2,stride=2),\r\n",
        "    )\r\n",
        "    self.classifier=nn.Sequential(\r\n",
        "        nn.Linear(400,120),\r\n",
        "        nn.Tanh(),\r\n",
        "        nn.Linear(120,84),\r\n",
        "        nn.Tanh(),\r\n",
        "        nn.Linear(84,10)\r\n",
        "    )\r\n",
        "  def forward(self,x):\r\n",
        "    #print(x.shape)\r\n",
        "    x=self.features(x)\r\n",
        "    #print(x.shape)\r\n",
        "    x=x.view(x.size(0),-1)\r\n",
        "    #print(x.shape)\r\n",
        "    x=self.classifier(x)\r\n",
        "    #print(x.shape)\r\n",
        "    return x\r\n"
      ],
      "execution_count": 5,
      "outputs": []
    },
    {
      "cell_type": "code",
      "metadata": {
        "id": "UqypgZs6mMHz"
      },
      "source": [
        "batch_size=128"
      ],
      "execution_count": 6,
      "outputs": []
    },
    {
      "cell_type": "code",
      "metadata": {
        "colab": {
          "base_uri": "https://localhost:8080/",
          "height": 83,
          "referenced_widgets": [
            "3a56b8b718ab410ebd960e54d50d0e8a",
            "6dbc81f0edfb4d8ba6e63c4662ae64c6",
            "c4865e490de54d238bc1c0180092a7ac",
            "9557c34c3cb44b2b92aecdc31dc13700",
            "1e86115851c24366ae3188b2223866ac",
            "64692dfb17694529a0d949dc41fb0167",
            "962a51b1acbc451b9ce0007bdc80298b",
            "1feee994df8d4476a79bfd86e00a8ef6"
          ]
        },
        "id": "lweWf0y9a1WS",
        "outputId": "a778c930-f711-4791-d8a5-79c79df10b6e"
      },
      "source": [
        "trainset=torchvision.datasets.CIFAR10(root='./data',train=True,download=True,transform=transforms.ToTensor())"
      ],
      "execution_count": 7,
      "outputs": [
        {
          "output_type": "stream",
          "text": [
            "Downloading https://www.cs.toronto.edu/~kriz/cifar-10-python.tar.gz to ./data/cifar-10-python.tar.gz\n"
          ],
          "name": "stdout"
        },
        {
          "output_type": "display_data",
          "data": {
            "application/vnd.jupyter.widget-view+json": {
              "model_id": "3a56b8b718ab410ebd960e54d50d0e8a",
              "version_minor": 0,
              "version_major": 2
            },
            "text/plain": [
              "HBox(children=(FloatProgress(value=1.0, bar_style='info', max=1.0), HTML(value='')))"
            ]
          },
          "metadata": {
            "tags": []
          }
        },
        {
          "output_type": "stream",
          "text": [
            "Extracting ./data/cifar-10-python.tar.gz to ./data\n"
          ],
          "name": "stdout"
        }
      ]
    },
    {
      "cell_type": "code",
      "metadata": {
        "id": "Vsh9ZILZl4tb"
      },
      "source": [
        "trainLoader=torch.utils.data.DataLoader(dataset=trainset,batch_size=batch_size,shuffle=True)"
      ],
      "execution_count": 8,
      "outputs": []
    },
    {
      "cell_type": "code",
      "metadata": {
        "colab": {
          "base_uri": "https://localhost:8080/"
        },
        "id": "_dfrN4DGi6Fu",
        "outputId": "0ed7767d-dad2-476c-97c5-5a54a136799d"
      },
      "source": [
        "testset=torchvision.datasets.CIFAR10(root='./data',train=False,download=True,transform=transforms.ToTensor())"
      ],
      "execution_count": 9,
      "outputs": [
        {
          "output_type": "stream",
          "text": [
            "Files already downloaded and verified\n"
          ],
          "name": "stdout"
        }
      ]
    },
    {
      "cell_type": "code",
      "metadata": {
        "id": "h7ulsgH-llv1"
      },
      "source": [
        "testloader=torch.utils.data.DataLoader(dataset=testset,batch_size=batch_size,shuffle=False)"
      ],
      "execution_count": 10,
      "outputs": []
    },
    {
      "cell_type": "code",
      "metadata": {
        "id": "kK6EzbmOdBcS"
      },
      "source": [
        "Lenet=LeNet()"
      ],
      "execution_count": 11,
      "outputs": []
    },
    {
      "cell_type": "code",
      "metadata": {
        "id": "VKwrW_zLlaHT"
      },
      "source": [
        "def eval(dataloader):\r\n",
        "  total,correct=0,0\r\n",
        "  for data in dataloader:\r\n",
        "    inputs,label=data\r\n",
        "    outputs=Lenet(inputs)\r\n",
        "    _,pred=torch.max(outputs.data,1)\r\n",
        "    total+=label.size(0)\r\n",
        "    correct+=(pred==label).sum().item()\r\n",
        "    return 100*correct/total"
      ],
      "execution_count": 12,
      "outputs": []
    },
    {
      "cell_type": "code",
      "metadata": {
        "colab": {
          "base_uri": "https://localhost:8080/"
        },
        "id": "ZFIYs6ITo1JF",
        "outputId": "adaf632c-c03e-4855-f6ba-3302f5b6eb60"
      },
      "source": [
        "eval(trainLoader)"
      ],
      "execution_count": 24,
      "outputs": [
        {
          "output_type": "execute_result",
          "data": {
            "text/plain": [
              "14.84375"
            ]
          },
          "metadata": {
            "tags": []
          },
          "execution_count": 24
        }
      ]
    },
    {
      "cell_type": "code",
      "metadata": {
        "id": "tyu7cOuSQlDJ"
      },
      "source": [
        "\r\n",
        "import torch.optim as optim\r\n",
        "loss_fn=nn.CrossEntropyLoss()\r\n",
        "optimizer=optim.Adam(Lenet.parameters())"
      ],
      "execution_count": 19,
      "outputs": []
    },
    {
      "cell_type": "code",
      "metadata": {
        "colab": {
          "base_uri": "https://localhost:8080/"
        },
        "id": "gOVY7GAVo5NT",
        "outputId": "e6c13660-f44a-49b4-e322-144bd0a98d20"
      },
      "source": [
        "loss_arr=[]\r\n",
        "loss_epoch_arr=[]\r\n",
        "epochs=20\r\n",
        "for epoch in range(epochs):\r\n",
        "  for i,data in enumerate(trainLoader):\r\n",
        "    inputs,label=data\r\n",
        "    \r\n",
        "    outputs=Lenet(inputs)\r\n",
        "    loss=loss_fn(outputs,label)\r\n",
        "    optimizer.zero_grad()\r\n",
        "    loss.backward()\r\n",
        "    optimizer.step()\r\n",
        "\r\n",
        "    loss_arr.append(loss.item())\r\n",
        "  print(\"Loss : | \"+str(loss.item())+\" | epoch : |\"+str(epoch)+\" | batch : |\" \\\r\n",
        "        +str(i)+\"| train accuracy : |\"+str(eval(trainLoader))+\"| test accuracy : |\"+str(eval(testloader))+\"|\")\r\n",
        "  loss_epoch_arr.append(loss.item())\r\n",
        "\r\n",
        "    \r\n",
        "    \r\n"
      ],
      "execution_count": 31,
      "outputs": [
        {
          "output_type": "stream",
          "text": [
            "Loss : | 0.8908117413520813 | epoch : |0 | batch : |390| train accuracy : |71.875| test accuracy : |60.9375|\n",
            "Loss : | 0.712399423122406 | epoch : |1 | batch : |390| train accuracy : |68.75| test accuracy : |60.15625|\n",
            "Loss : | 0.8215492367744446 | epoch : |2 | batch : |390| train accuracy : |72.65625| test accuracy : |56.25|\n",
            "Loss : | 0.7844428420066833 | epoch : |3 | batch : |390| train accuracy : |77.34375| test accuracy : |62.5|\n",
            "Loss : | 0.7270179986953735 | epoch : |4 | batch : |390| train accuracy : |75.78125| test accuracy : |62.5|\n",
            "Loss : | 0.9410772323608398 | epoch : |5 | batch : |390| train accuracy : |72.65625| test accuracy : |62.5|\n",
            "Loss : | 0.9504968523979187 | epoch : |6 | batch : |390| train accuracy : |67.96875| test accuracy : |60.9375|\n",
            "Loss : | 0.7207099199295044 | epoch : |7 | batch : |390| train accuracy : |72.65625| test accuracy : |61.71875|\n",
            "Loss : | 0.925803005695343 | epoch : |8 | batch : |390| train accuracy : |76.5625| test accuracy : |61.71875|\n",
            "Loss : | 0.7470153570175171 | epoch : |9 | batch : |390| train accuracy : |73.4375| test accuracy : |63.28125|\n",
            "Loss : | 0.7666268348693848 | epoch : |10 | batch : |390| train accuracy : |79.6875| test accuracy : |60.15625|\n",
            "Loss : | 0.9101533889770508 | epoch : |11 | batch : |390| train accuracy : |74.21875| test accuracy : |59.375|\n",
            "Loss : | 0.6927225589752197 | epoch : |12 | batch : |390| train accuracy : |78.90625| test accuracy : |60.9375|\n",
            "Loss : | 0.69963139295578 | epoch : |13 | batch : |390| train accuracy : |76.5625| test accuracy : |58.59375|\n",
            "Loss : | 0.9393310546875 | epoch : |14 | batch : |390| train accuracy : |79.6875| test accuracy : |59.375|\n",
            "Loss : | 0.6970614194869995 | epoch : |15 | batch : |390| train accuracy : |77.34375| test accuracy : |55.46875|\n",
            "Loss : | 0.7402487993240356 | epoch : |16 | batch : |390| train accuracy : |74.21875| test accuracy : |59.375|\n",
            "Loss : | 0.8043452501296997 | epoch : |17 | batch : |390| train accuracy : |77.34375| test accuracy : |59.375|\n",
            "Loss : | 0.7510579824447632 | epoch : |18 | batch : |390| train accuracy : |79.6875| test accuracy : |59.375|\n",
            "Loss : | 0.8003996014595032 | epoch : |19 | batch : |390| train accuracy : |76.5625| test accuracy : |60.15625|\n"
          ],
          "name": "stdout"
        }
      ]
    },
    {
      "cell_type": "markdown",
      "metadata": {
        "id": "2lUZ2sNEa9q7"
      },
      "source": [
        "#2.**`Training The Network on GPU`**"
      ]
    },
    {
      "cell_type": "code",
      "metadata": {
        "id": "yzq0WMrCYX-D"
      },
      "source": [
        "device=torch.device(\"cuda\" if torch.cuda.is_available() else \"cpu\")"
      ],
      "execution_count": 16,
      "outputs": []
    },
    {
      "cell_type": "code",
      "metadata": {
        "id": "QVcl6vsZZVZn"
      },
      "source": [
        "def eval(dataloader):\r\n",
        "  total,correct=0,0\r\n",
        "  for data in dataloader:\r\n",
        "    inputs,label=data\r\n",
        "    inputs,label=inputs.to(device),label.to(device)\r\n",
        "    outputs=Lenet(inputs)\r\n",
        "    _,pred=torch.max(outputs.data,1)\r\n",
        "    total+=label.size(0)\r\n",
        "    correct+=(pred==label).sum().item()\r\n",
        "    return 100*correct/total"
      ],
      "execution_count": 17,
      "outputs": []
    },
    {
      "cell_type": "code",
      "metadata": {
        "id": "R5nXRo3Tbyp4"
      },
      "source": [
        "Lenet=LeNet().to(device)"
      ],
      "execution_count": 18,
      "outputs": []
    },
    {
      "cell_type": "code",
      "metadata": {
        "colab": {
          "base_uri": "https://localhost:8080/"
        },
        "id": "TeM5Qi6hb0sB",
        "outputId": "c76b9db5-9224-4ffb-d8d8-4e6566b07e67"
      },
      "source": [
        "loss_arr=[]\r\n",
        "loss_epoch_arr=[]\r\n",
        "epochs=20\r\n",
        "for epoch in range(epochs):\r\n",
        "  for i,data in enumerate(trainLoader):\r\n",
        "    inputs,label=data\r\n",
        "    inputs,label=inputs.to(device),label.to(device)\r\n",
        "    \r\n",
        "    outputs=Lenet(inputs)\r\n",
        "    loss=loss_fn(outputs,label)\r\n",
        "    optimizer.zero_grad()\r\n",
        "    loss.backward()\r\n",
        "    optimizer.step()\r\n",
        "\r\n",
        "    loss_arr.append(loss.item())\r\n",
        "  print(\"Loss : | \"+str(loss.item())+\" | epoch : |\"+str(epoch)+\" | batch : |\" \\\r\n",
        "        +str(i)+\"| train accuracy : |\"+str(eval(trainLoader))+\"| test accuracy : |\"+str(eval(testloader))+\"|\")\r\n",
        "  loss_epoch_arr.append(loss.item())\r\n",
        "\r\n",
        "    \r\n",
        "    \r\n"
      ],
      "execution_count": 20,
      "outputs": [
        {
          "output_type": "stream",
          "text": [
            "Loss : | 1.8222992420196533 | epoch : |0 | batch : |390| train accuracy : |50.0| test accuracy : |37.5|\n",
            "Loss : | 1.6111118793487549 | epoch : |1 | batch : |390| train accuracy : |38.28125| test accuracy : |43.75|\n",
            "Loss : | 1.5384080410003662 | epoch : |2 | batch : |390| train accuracy : |50.78125| test accuracy : |46.875|\n",
            "Loss : | 1.3273192644119263 | epoch : |3 | batch : |390| train accuracy : |50.78125| test accuracy : |52.34375|\n",
            "Loss : | 1.3717365264892578 | epoch : |4 | batch : |390| train accuracy : |52.34375| test accuracy : |53.125|\n",
            "Loss : | 1.4120867252349854 | epoch : |5 | batch : |390| train accuracy : |52.34375| test accuracy : |53.125|\n",
            "Loss : | 1.3792338371276855 | epoch : |6 | batch : |390| train accuracy : |50.0| test accuracy : |50.78125|\n",
            "Loss : | 1.2749676704406738 | epoch : |7 | batch : |390| train accuracy : |64.0625| test accuracy : |55.46875|\n",
            "Loss : | 1.2655460834503174 | epoch : |8 | batch : |390| train accuracy : |52.34375| test accuracy : |51.5625|\n",
            "Loss : | 1.1389739513397217 | epoch : |9 | batch : |390| train accuracy : |60.9375| test accuracy : |57.03125|\n",
            "Loss : | 1.2906743288040161 | epoch : |10 | batch : |390| train accuracy : |59.375| test accuracy : |51.5625|\n",
            "Loss : | 1.040231466293335 | epoch : |11 | batch : |390| train accuracy : |60.15625| test accuracy : |56.25|\n",
            "Loss : | 1.0004737377166748 | epoch : |12 | batch : |390| train accuracy : |68.75| test accuracy : |51.5625|\n",
            "Loss : | 1.1335885524749756 | epoch : |13 | batch : |390| train accuracy : |67.1875| test accuracy : |58.59375|\n",
            "Loss : | 1.040575623512268 | epoch : |14 | batch : |390| train accuracy : |73.4375| test accuracy : |57.8125|\n",
            "Loss : | 0.9923715591430664 | epoch : |15 | batch : |390| train accuracy : |58.59375| test accuracy : |55.46875|\n",
            "Loss : | 1.0566294193267822 | epoch : |16 | batch : |390| train accuracy : |61.71875| test accuracy : |54.6875|\n",
            "Loss : | 1.3374440670013428 | epoch : |17 | batch : |390| train accuracy : |65.625| test accuracy : |53.125|\n",
            "Loss : | 0.9891135096549988 | epoch : |18 | batch : |390| train accuracy : |70.3125| test accuracy : |53.125|\n",
            "Loss : | 1.2944217920303345 | epoch : |19 | batch : |390| train accuracy : |71.875| test accuracy : |57.03125|\n"
          ],
          "name": "stdout"
        }
      ]
    },
    {
      "cell_type": "code",
      "metadata": {
        "colab": {
          "base_uri": "https://localhost:8080/",
          "height": 264
        },
        "id": "8UaGcTmVcsqT",
        "outputId": "4ac45b48-3a01-451e-c85c-5622a3314541"
      },
      "source": [
        "import matplotlib.pyplot as plt\r\n",
        "plt.plot(loss_arr)\r\n",
        "plt.show()"
      ],
      "execution_count": 21,
      "outputs": [
        {
          "output_type": "display_data",
          "data": {
            "image/png": "[encoded data removed]",
            "text/plain": [
              "<Figure size 432x288 with 1 Axes>"
            ]
          },
          "metadata": {
            "tags": [],
            "needs_background": "light"
          }
        }
      ]
    },
    {
      "cell_type": "code",
      "metadata": {
        "id": "hEHsXuwBc4pz"
      },
      "source": [
        ""
      ],
      "execution_count": null,
      "outputs": []
    }
  ]
}